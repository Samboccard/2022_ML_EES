{
  "nbformat": 4,
  "nbformat_minor": 0,
  "metadata": {
    "colab": {
      "name": "S4_1_NNs_with_Keras.ipynb",
      "provenance": [],
      "collapsed_sections": [
        "_ViiopXOfS3G",
        "l-VS2NTVv_kW"
      ],
      "include_colab_link": true
    },
    "kernelspec": {
      "name": "python3",
      "display_name": "Python 3"
    },
    "language_info": {
      "name": "python"
    }
  },
  "cells": [
    {
      "cell_type": "markdown",
      "metadata": {
        "id": "view-in-github",
        "colab_type": "text"
      },
      "source": [
        "<a href=\"https://colab.research.google.com/github/Samboccard/2022_ML_EES/blob/main/Labs/S4_1_NNs_with_Keras.ipynb\" target=\"_parent\"><img src=\"https://colab.research.google.com/assets/colab-badge.svg\" alt=\"Open In Colab\"/></a>"
      ]
    },
    {
      "cell_type": "markdown",
      "source": [
        "##**Chapter 10 – Introduction to Neural Networks with Keras**"
      ],
      "metadata": {
        "id": "2_Zny8rw4lon"
      }
    },
    {
      "cell_type": "markdown",
      "source": [
        "![picture](https://unils-my.sharepoint.com/:i:/g/personal/tom_beucler_unil_ch/EWzvoN-LqmBDtvuEXvi3m2MBRr4ACElB77IAfndUaDFVJQ?download=1)\n",
        "\n",
        "<center>\n",
        "<br> Photo Credits: <a href=\"https://unsplash.com/photos/_HRi5kBwGh0\">Galaxy's Edge</a> by <a href=\"https://unsplash.com/@rodlong\">Rod Long</a> licensed under the <a href='https://unsplash.com/license'>Unsplash License</a> "
      ],
      "metadata": {
        "id": "nD8r1k_osIxa"
      }
    },
    {
      "cell_type": "markdown",
      "source": [
        "> *The defnition of AI is a highly contested concept. It often refers to technologies that demonstrate levels of independent intelligence from humans. By its very\n",
        "defnition, it is an intelligence that is differentiated from natural intelligence; it is\n",
        "a constructed, artificial, or machine intelligence.* <br>\n",
        "$\\quad$Ryan, M. (2020). In AI we trust: ethics, artificial intelligence, and reliability. Science and Engineering Ethics, 26(5), 2749-2767."
      ],
      "metadata": {
        "id": "O5ROFvTFwNab"
      }
    },
    {
      "cell_type": "markdown",
      "source": [
        "This notebook will be used in the lab session for week 4 of the course, covers Chapters 10 of Géron, and builds on the [notebooks made available on _Github_](https://github.com/ageron/handson-ml2)."
      ],
      "metadata": {
        "id": "8oWOJ_ZG42UM"
      }
    },
    {
      "cell_type": "markdown",
      "source": [
        "## Notebook Setup"
      ],
      "metadata": {
        "id": "P8n6IT3L5hc2"
      }
    },
    {
      "cell_type": "markdown",
      "source": [
        "First, let's import a few common modules, ensure MatplotLib plots figures inline and prepare a function to save the figures. We also check that Python 3.5 or later is installed (although Python 2.x may work, it is deprecated so we strongly recommend you use Python 3 instead), as well as Scikit-Learn ≥0.20 and TensorFlow ≥2.0."
      ],
      "metadata": {
        "id": "-ZJxkWn35ka2"
      }
    },
    {
      "cell_type": "code",
      "execution_count": 1,
      "metadata": {
        "id": "LW5QuuAZ4aMk",
        "outputId": "3169ffee-9c5c-4c91-8f2f-cded07594305",
        "colab": {
          "base_uri": "https://localhost:8080/"
        }
      },
      "outputs": [
        {
          "output_type": "stream",
          "name": "stdout",
          "text": [
            "Colab only includes TensorFlow 2.x; %tensorflow_version has no effect.\n"
          ]
        }
      ],
      "source": [
        "# Python ≥3.5 is required\n",
        "import sys\n",
        "assert sys.version_info >= (3, 5)\n",
        "\n",
        "# Scikit-Learn ≥0.20 is required\n",
        "import sklearn\n",
        "assert sklearn.__version__ >= \"0.20\"\n",
        "\n",
        "try:\n",
        "    # %tensorflow_version only exists in Colab.\n",
        "    %tensorflow_version 2.x\n",
        "except Exception:\n",
        "    pass\n",
        "\n",
        "# TensorFlow ≥2.0 is required\n",
        "import tensorflow as tf\n",
        "assert tf.__version__ >= \"2.0\"\n",
        "\n",
        "# Common imports\n",
        "import numpy as np\n",
        "import os\n",
        "\n",
        "# to make this notebook's output stable across runs\n",
        "rnd_seed = 42\n",
        "rnd_gen = np.random.default_rng(rnd_seed)\n",
        "\n",
        "# To plot pretty figures\n",
        "%matplotlib inline\n",
        "import matplotlib as mpl\n",
        "import matplotlib.pyplot as plt\n",
        "mpl.rc('axes', labelsize=14)\n",
        "mpl.rc('xtick', labelsize=12)\n",
        "mpl.rc('ytick', labelsize=12)\n",
        "\n",
        "# Where to save the figures\n",
        "PROJECT_ROOT_DIR = \".\"\n",
        "CHAPTER_ID = \"ann\"\n",
        "IMAGES_PATH = os.path.join(PROJECT_ROOT_DIR, \"images\", CHAPTER_ID)\n",
        "os.makedirs(IMAGES_PATH, exist_ok=True)\n",
        "\n",
        "def save_fig(fig_id, tight_layout=True, fig_extension=\"png\", resolution=300):\n",
        "    path = os.path.join(IMAGES_PATH, fig_id + \".\" + fig_extension)\n",
        "    print(\"Saving figure\", fig_id)\n",
        "    if tight_layout:\n",
        "        plt.tight_layout()\n",
        "    plt.savefig(path, format=fig_extension, dpi=resolution)\n",
        "\n",
        "# Initialize the run_index\n",
        "run_index = None\n",
        "\n",
        "# Loading Tensorboard\n",
        "%load_ext tensorboard"
      ]
    },
    {
      "cell_type": "markdown",
      "source": [
        "## Data Setup"
      ],
      "metadata": {
        "id": "LcFK6eUo7hZJ"
      }
    },
    {
      "cell_type": "markdown",
      "source": [
        "Today, we'll once again be working on the MNIST handwritten digit database - we're becoming experts in typography! ✍  \n",
        "\n",
        "Let's begin by importing the dataset from the keras dataset library.\n",
        "\n",
        "### **Q1) Load the MNIST dataset from Keras. Divide it into a training, validation, and test dataset**"
      ],
      "metadata": {
        "id": "kM201pFQ7j0N"
      }
    },
    {
      "cell_type": "markdown",
      "source": [
        "*Hint 1: To access the Keras library, you can either reimport keras (e.g., `import tensorflow.keras as keras`), or you can access it from the instance of tensorflow we imported during setup (i.e., using `tf.keras`)*\n",
        "\n",
        "*Hint 2: [Here is the documentation](https://keras.io/api/datasets/mnist/) for the Keras implementation of the MNIST dataset*\n",
        "\n",
        "*Hint 3: If you use the `mnist.load_data()` method, what will be returned will be a set of tuples: (training_data, testing_data), where training_data and testing_data are tuples of inputs and labels (X, y)*\n",
        "\n",
        "*Hint 4: You can break down the training dataset from the `.load()` method into a training and validation dataset. Since the full training dataset includes 60 000 samples, try using 50 000 samples as training data and 10 000 samples as validation data.*"
      ],
      "metadata": {
        "id": "kN1_koqQGNjP"
      }
    },
    {
      "cell_type": "code",
      "source": [
        "# Load the keras dataset data\n",
        "import tensorflow.keras as keras\n",
        "( (X_train_full, y_train_full) , (X_test, y_test) ) = keras.datasets.mnist.load_data()"
      ],
      "metadata": {
        "id": "Xz4UdXhg8vkH",
        "outputId": "21cccdc7-c442-45d9-be4c-681d4f8ce92e",
        "colab": {
          "base_uri": "https://localhost:8080/"
        }
      },
      "execution_count": 2,
      "outputs": [
        {
          "output_type": "stream",
          "name": "stdout",
          "text": [
            "Downloading data from https://storage.googleapis.com/tensorflow/tf-keras-datasets/mnist.npz\n",
            "11490434/11490434 [==============================] - 1s 0us/step\n"
          ]
        }
      ]
    },
    {
      "cell_type": "code",
      "source": [
        "# Split the data\n",
        "from sklearn.model_selection import train_test_split\n",
        "X_train, X_valid, y_train, y_valid = train_test_split(X_train_full, y_train_full, test_size=10000, train_size=50000)"
      ],
      "metadata": {
        "id": "PcLjZfdIMKrt"
      },
      "execution_count": 3,
      "outputs": []
    },
    {
      "cell_type": "markdown",
      "source": [
        "What does our data look like? Let's get an idea of the values and figure out what kind of preprocessing we should do before training our neural network.\n",
        "\n",
        "### **Q2) Print the shape of the training, validation, and test sets. Then, print the maximum and minimum input values.**\n"
      ],
      "metadata": {
        "id": "_ViiopXOfS3G"
      }
    },
    {
      "cell_type": "markdown",
      "source": [
        "*Hint 1: You loaded the data as numpy arrays. Thus, you can rely on the built-in methods for finding the shape and min/max values.*\n",
        "\n",
        "*Hint 2: Click for the documentation on [`ndarray.max()`](https://numpy.org/doc/stable/reference/generated/numpy.ndarray.max.html), [`ndarray.min()`](https://numpy.org/doc/stable/reference/generated/numpy.ndarray.min.html), and [`ndarray.shape`](https://numpy.org/doc/stable/reference/generated/numpy.ndarray.shape.html)*"
      ],
      "metadata": {
        "id": "fkZ7STj2GRi7"
      }
    },
    {
      "cell_type": "code",
      "source": [
        "#Write your code here\n",
        "print(X_train.shape)\n",
        "print(X_valid.shape)\n",
        "print(X_test.shape)\n",
        "print(y_train.shape)\n",
        "print(y_valid.shape)\n",
        "print(y_test.shape)"
      ],
      "metadata": {
        "id": "tXhz-sgek-yk",
        "outputId": "8627bc2d-fa55-4a7d-d0ed-9fb80f5f90b5",
        "colab": {
          "base_uri": "https://localhost:8080/"
        }
      },
      "execution_count": 5,
      "outputs": [
        {
          "output_type": "stream",
          "name": "stdout",
          "text": [
            "(50000, 28, 28)\n",
            "(10000, 28, 28)\n",
            "(10000, 28, 28)\n",
            "(50000,)\n",
            "(10000,)\n",
            "(10000,)\n"
          ]
        }
      ]
    },
    {
      "cell_type": "code",
      "source": [
        "print(X_train.max(), X_valid.max(), X_test.max())\n",
        "print(X_train.min(), X_valid.min() ,X_test.min())\n",
        "\n",
        "print(y_train.max(), y_valid.max(), y_test.max())\n",
        "print(y_train.min(), y_valid.min() ,y_test.min())"
      ],
      "metadata": {
        "id": "CP67PttulqPT",
        "outputId": "8656d9ff-92ea-4d1f-dbb1-fccd93106935",
        "colab": {
          "base_uri": "https://localhost:8080/"
        }
      },
      "execution_count": 6,
      "outputs": [
        {
          "output_type": "stream",
          "name": "stdout",
          "text": [
            "255 255 255\n",
            "0 0 0\n",
            "9 9 9\n",
            "0 0 0\n"
          ]
        }
      ]
    },
    {
      "cell_type": "markdown",
      "source": [
        "If you used the same train/validation split as we did, you should have 50k samples in the training set, 10k in the validation set, and 10k in the test set. \n",
        "\n",
        "Since the data represents grayscale image values, data values should vary between 0 and 255; Normalize the data by dividing it by 255.\n",
        "### **Q3) Normalize the input data for the training, validation, and testing sets**"
      ],
      "metadata": {
        "id": "FDnMybuFk_lb"
      }
    },
    {
      "cell_type": "markdown",
      "source": [
        "*Hint 1: The datasets are stored as simple numpy arrays, so you can perform arithmetic operations on them!*"
      ],
      "metadata": {
        "id": "eEfub-HiGblo"
      }
    },
    {
      "cell_type": "code",
      "source": [
        "X_train = X_train / 255\n",
        "X_valid = X_valid / 255\n",
        "X_test =  X_test / 255"
      ],
      "metadata": {
        "id": "cOpw-2ruonwy"
      },
      "execution_count": 7,
      "outputs": []
    },
    {
      "cell_type": "markdown",
      "source": [
        "We now have the normalized training, validation, and testing data that we'll use to train our neural network. Before moving on, it might be worth it to make a small visualiation of samples in our data to ensure that everything worked out correctly.\n",
        "\n",
        "### **Q4) Write a function that: <br> <blockquote>1) Takes in an input dataset and its labels, a number of rows, and a number of columns <br> 2) Prints out a random n_rows by n_columns sample of images with their labels</blockquote>**\n",
        "\n",
        "*Hint 1: You can use the `rnd_seed.integers()` generator to generate a set of integers between 0 and the number of samples, with a size of (rows,columns). [Here is some documentation that can help](https://numpy.org/doc/stable/reference/random/generator.html#simple-random-data). It's best practice to take in the random generator as an argument for your function.*\n",
        "\n",
        "*Hint 2: You can use matplotlib's `fig, axes = plt.subplots()` to make a grid of axes and call the `imshow()` method on each ax in order to plot the digit. It is recommended that you use the `cmap='binary'` argument in imshow to print the digits in black and white*. Click on the links for the documentation to [`plt.sublopts()`](https://matplotlib.org/3.5.0/api/_as_gen/matplotlib.pyplot.subplots.html), [`plt.imshow()`](https://matplotlib.org/3.5.0/api/_as_gen/matplotlib.pyplot.imshow.html), and [the colormaps (i.e., cmap values)](https://matplotlib.org/stable/gallery/color/colormap_reference.html) available in matplotlib.\n",
        "\n",
        "*Hint 3: You can iterate using numpy `ndenumerate()` method, which will return the n-dimensional index of the array and the element located there. This will be useful when iterating through the indices you generated and plotting the corresponding digit and label*"
      ],
      "metadata": {
        "id": "l-VS2NTVv_kW"
      }
    },
    {
      "cell_type": "code",
      "source": [
        "#@title Hint 4: Code Snippet, if you're feeling stuck\n",
        "\n",
        "'''\n",
        "def sample_plotter(X, y, n_rows, n_columns, rnd_gen):\n",
        "    assert type(X) == type(np.empty(0))\n",
        "    indices = rnd_gen.integers(0,X.shape[0], size=(n_rows, n_columns))\n",
        "    \n",
        "    fig, axes = plt.subplots(n_rows, n_columns, figsize=(8,6))\n",
        "\n",
        "    for idx, element in np.ndenumerate(indices):\n",
        "        axes[idx].imshow(X[element], cmap='binary')\n",
        "        axes[idx].axis('off')\n",
        "        axes[idx].title.set_text(y[element])\n",
        "    return\n",
        "''';"
      ],
      "metadata": {
        "cellView": "form",
        "id": "zcDF_uMuBKBO"
      },
      "execution_count": null,
      "outputs": []
    },
    {
      "cell_type": "code",
      "source": [
        "def sample_plotter(dataset, labels, n_rows, n_columns):\n",
        "    \n",
        "    # Create a set of indices to access the sample images/labels\n",
        "    indices = rnd_gen.integers(0,dataset.shape[0], size=(n_rows,n_columns))\n",
        "\n",
        "    # Create a figure with n_rows and n_columns\n",
        "    fig, ax = plt.subplots(n_rows, n_columns)\n",
        "\n",
        "    # Plot each selected digit\n",
        "    for indx, element in np.ndenumerate(indices):\n",
        "      ax[indx].imshow(dataset[element], cmap='binary')\n",
        "      ax[indx].axis('off')\n",
        "      ax[indx].title.set_text(labels[element])\n",
        "\n",
        "    return None"
      ],
      "metadata": {
        "id": "qtmdxBHCEs_o"
      },
      "execution_count": 8,
      "outputs": []
    },
    {
      "cell_type": "markdown",
      "source": [
        "Now that our function is defined, let's go ahead and print out a 4 row by 8 column sample from each dataset.\n",
        "\n",
        "### **Q5) Grab a 4x8 sample of digits from each dataset and print out the image and labels**"
      ],
      "metadata": {
        "id": "Txut6AxUEMac"
      }
    },
    {
      "cell_type": "code",
      "source": [
        "#Write your code here!\n",
        "sample_plotter(X_train, y_train, 4, 8)"
      ],
      "metadata": {
        "id": "YZoG0jWzELBI",
        "outputId": "7e537733-89c8-4944-f563-8bacd6f15e95",
        "colab": {
          "base_uri": "https://localhost:8080/",
          "height": 253
        }
      },
      "execution_count": 9,
      "outputs": [
        {
          "output_type": "display_data",
          "data": {
            "text/plain": [
              "<Figure size 432x288 with 32 Axes>"
            ],
            "image/png": "[encoded data removed]"
          },
          "metadata": {
            "needs_background": "light"
          }
        }
      ]
    },
    {
      "cell_type": "markdown",
      "source": [
        "We're now ready to start developing our neural network. The first thing that we want to do is figure out an appropriate learning rate for our model - after all, we want to choose one that converges to a solution *and* is the least computationally expensive possible.\n",
        "\n",
        "Let's start by setting up a keras *callback* [(click here for the documentation)](https://keras.io/api/callbacks/), a type of object that will allow us to change the learning rate after every iteration (i.e., after every batch of data). We will set up what is called an exponential learning rate (that is, the learning will increase by a factor of $k$ after each iteration). Expressed mathematically,\n",
        "\\begin{align}\n",
        "\\eta_{\\scriptsize{t}} = \\eta_{\\scriptsize{0}} \\, \\cdot \\, k^{\\scriptsize{t}}\n",
        "\\end{align}\n",
        "where $t$ is the current iteration. \n",
        "\n",
        "As a reminder, an epoch is an iteration through the entire training dataset, while a batch is an iteration through a predefined subset of . It's important to make this distinction, as ML algorithms are often trained in batches when dealing with large datasets, and we *normally* do not want to change the learning rate in between batches during model training. However, we will do so during this evaluation phase in order to determine an adequate learning rate.\n",
        "\n",
        "We will therefore set a callback that will do two things after the end of each batch:\n",
        "\n",
        "> 1) Keep a track of the losses <br> 2) Adjust the learning rate by multiplying it by a predefined factor"
      ],
      "metadata": {
        "id": "HLkcWwScg-nk"
      }
    },
    {
      "cell_type": "markdown",
      "source": [
        "### **Q5) Set up an *Exponential_Learning_Rate* callback that, after each batch, logs the value of the loss function and learning rate, and then multiplies the learning rate by a factor of $k$** "
      ],
      "metadata": {
        "id": "Gcl58OOaGBxV"
      }
    },
    {
      "cell_type": "markdown",
      "source": [
        "*Hint 1: Multiple backend options are available with Keras. We will be using tensorflow, but the code is thought to be written in such a way that a different backend **could** be used. `tf.keras.backend` has a `.backend()` method that allows you to check what backend is being used.*\n",
        "\n",
        "*Hint 2: You should extend the `tf.keras.callbacks.Callback` class. (Confused about extending classes? [Here is a question on stack overflow](https://stackoverflow.com/questions/15526858/how-to-extend-a-class-in-python) that could provide some context) *\n",
        "\n",
        "*Hint 3: The ExponentialLearningRate callback we will implement will need to take in the $k$ factor during its initialization ([here's a quick overview](https://stackoverflow.com/questions/625083/what-do-init-and-self-do-in-python) on the __init__ contructor method and **self** arguments in classes, with a focus on python.). You will also need to save an empty list as an attribute for both the losses and the learning rates*\n",
        "\n",
        "*Hint 4: Keras model optimizers have an attribute where the learning rate is stored: `model.optimizer.learning_rate`. In order to read the value, you will have to use the keras backend's `.get_value()` method with the model's learning rate as an argument*\n",
        "\n",
        "*Hint 5: the on_train_batch_end method pass the `logs` argument into the function. You can access the loss function by using `logs['loss']`*\n",
        "\n",
        "*Hint 6: In order to set the learning rate to a different value, you will have to depend on the keras backend's `.set_value()` method. This method takes in two arguments: the first is the value that will be set (e.g., the learning rate in the model's optimizer) and the value that it will be set to (e.g., the learning rate multiplied by the k factor).*\n",
        "\n",
        "*Hint 7: Unlike in other documentations we've seen, `backend.get_value()` and `backend.set_value()` don't yet have their own page. However, [here is the link](https://www.tensorflow.org/guide/keras/custom_callback#learning_rate_scheduling) to an example where both methods are used in a learning rate scheduler.*"
      ],
      "metadata": {
        "id": "LwAuEHkiF_Xt"
      }
    },
    {
      "cell_type": "code",
      "source": [
        "# We'll start by making it easier to access the keras backend. See hint #1 for\n",
        "# more details\n",
        "K = tf.keras.backend\n",
        "\n",
        "# Use the .backend() method to determine what backend we're running \n",
        "K.backend()"
      ],
      "metadata": {
        "id": "fUNJlt80ran6",
        "outputId": "ff9edfaf-abd0-4e32-8930-7bd75a9f6f11",
        "colab": {
          "base_uri": "https://localhost:8080/",
          "height": 36
        }
      },
      "execution_count": 10,
      "outputs": [
        {
          "output_type": "execute_result",
          "data": {
            "text/plain": [
              "'tensorflow'"
            ],
            "application/vnd.google.colaboratory.intrinsic+json": {
              "type": "string"
            }
          },
          "metadata": {},
          "execution_count": 10
        }
      ]
    },
    {
      "cell_type": "code",
      "source": [
        "# Remember that you can access the keras.backend using K, which we defined in \n",
        "# the code cell above!\n",
        "\n",
        "class ExponentialLearningRate(tf.keras.callbacks.Callback): #define the ExponentialLearningRate class\n",
        "    # Start \n",
        "    def __init__(self, factor):\n",
        "        self.factor = factor # set the factor\n",
        "        self.loss = [] # initialize the losses list\n",
        "        self.lr = [] # initialize the learning rates list\n",
        "        \n",
        "    def on_batch_end(self, batch, logs):\n",
        "        # Add the value of the learning rate to the list\n",
        "        self.lr.append(K.get_value(self.model.optimizer.learning_rate))\n",
        "\n",
        "        # Add the value of the loss\n",
        "        self.loss.append(logs['loss'])\n",
        "\n",
        "        # Set the value of the \n",
        "        K.set_value(self.model.optimizer.learning_rate, self.model.optimizer.learning_rate * self.factor)"
      ],
      "metadata": {
        "id": "Xh9OakL3r6hf"
      },
      "execution_count": 11,
      "outputs": []
    },
    {
      "cell_type": "markdown",
      "source": [
        "Now that we've defined out callback, we can go ahead and start thinking about our neural network. For consistency's sake, let's start by clearing the Keras backend and setting our random state."
      ],
      "metadata": {
        "id": "TOafIE55Z4LK"
      }
    },
    {
      "cell_type": "code",
      "source": [
        "# Run this cell\n",
        "K.clear_session()\n",
        "np.random.seed(rnd_seed)\n",
        "tf.random.set_seed(rnd_seed)"
      ],
      "metadata": {
        "id": "rC5MYnIFaVdR"
      },
      "execution_count": 12,
      "outputs": []
    },
    {
      "cell_type": "markdown",
      "source": [
        "Let's make a simple neural network model using Keras. For this, we will rely on a [*Sequential model*](https://keras.io/guides/sequential_model/), since we will want all of the inputs of one layer to be fed into the next layer. We recommend using the architecture described in the diagram below, but feel free to define your own architecture!\n",
        "\n",
        "<center><img width=60% src='https://unils-my.sharepoint.com/:i:/g/personal/tom_beucler_unil_ch/ETl6L_3bHENFt6ZDSgaCpIEBkg2cNPDGowc8u5V8Gxe7XQ?download=1'></center>"
      ],
      "metadata": {
        "id": "cpoubGhNnVew"
      }
    },
    {
      "cell_type": "markdown",
      "source": [
        "### **Q6) Write a sequential Keras model that will predict the digit class.**\n",
        "\n"
      ],
      "metadata": {
        "id": "P84Ul1x27QJ3"
      }
    },
    {
      "cell_type": "markdown",
      "source": [
        "*Hint 1: You can add the layers in the sequential model when initializing the model. It expects the layers in a list. Alternatively, you can add them one by one using the model's `.add()` method. [Check out the documentation here](https://keras.io/guides/sequential_model/#creating-a-sequential-model).*\n",
        "\n",
        "*Hint 2: The input images should be flattened before feeding them into any densely connected layers. [Here is the documentation](https://www.tensorflow.org/api_docs/python/tf/keras/layers/Flatten) for the flatten layer.*\n",
        "\n",
        "*Hint 3: You want to use simple, densely connected layers for this exercise. [Here is the documentation](https://www.tensorflow.org/api_docs/python/tf/keras/layers/Dense) for the dense layer.*\n",
        "\n",
        "*Hint 4: Using a dense layer with the number of units set to the number of classes (e.g., the number of different digits in the MNIST dataset: 10) using a softmax activation unit can be interpreted as a probability of the input belonging to a given class. [Here is the documentation](https://keras.io/api/layers/activations/#softmax-function) for the softmax activation function in Keras*"
      ],
      "metadata": {
        "id": "-fX-GC0_8IuC"
      }
    },
    {
      "cell_type": "code",
      "source": [
        "# Create your model! Feel free to use our outline, or make your own from scratch\n",
        "\n",
        "model = keras.Sequential([  # call the keras sequential model class\n",
        "                            tf.keras.layers.Flatten(),  # 1st Layer\n",
        "                            tf.keras.layers.Dense(300, activation='relu'),  # 2nd Layer\n",
        "                            tf.keras.layers.Dense(100,activation='relu'),  # 3rd Layer\n",
        "                            tf.keras.layers.Dense(10, activation='softmax')]) # 4th Layer"
      ],
      "metadata": {
        "id": "TPuhRna87LkT"
      },
      "execution_count": 13,
      "outputs": []
    },
    {
      "cell_type": "markdown",
      "source": [
        "Now that we have a model defined, we need to run its `.compile()' method, in which we will give the model the following hyper-parameters:\n",
        "> 1) Loss function will be set to sparse categorical cross entropy <br> 2) The optimizer will be set to Stochastic Gradient Descent with a learning rate of 1e-3 <br> 3) The model metrics will include the accuracy score "
      ],
      "metadata": {
        "id": "3BAK1EINKHaN"
      }
    },
    {
      "cell_type": "markdown",
      "source": [
        "### **Q7) Compile the model with the given hyperparameters (i.e., loss function, optimizer, and metrics) and instantiate the callback we defined previously using a $k$ factor of 1.005 (i.e., a 0.5% increase in learning rate per batch)**\n",
        "\n"
      ],
      "metadata": {
        "id": "h7Dkr99kKvNL"
      }
    },
    {
      "cell_type": "markdown",
      "source": [
        "*Hint 1: [Here is the documentation](https://www.tensorflow.org/api_docs/python/tf/keras/metrics/sparse_categorical_crossentropy) for the sparse categorical cross entropy loss function in keras. You can simply reference the function using `loss='sparse_categorical_crossentropy'` when compiling.*\n",
        "\n",
        "*Hint 2: [Here is the documentation](https://www.tensorflow.org/api_docs/python/tf/keras/optimizers/SGD) for the Stochastic Gradient Descent optimizer in keras*\n",
        "\n",
        "*Hint 3: [Here is the documentation](https://www.tensorflow.org/api_docs/python/tf/keras/metrics/Accuracy) for the accuracy score implementation in keras. Like with the sparse_categorical_cross_entropy loss, you can reference the accuracy score in the metrics list, e.g. by setting `metrics=['accuracy']` when compiling.*\n"
      ],
      "metadata": {
        "id": "2aNgAFTsLEjd"
      }
    },
    {
      "cell_type": "code",
      "source": [
        "model.compile(loss='sparse_categorical_crossentropy', # Set the loss function\n",
        "              optimizer=tf.keras.optimizers.SGD(learning_rate=0.001), # Set the optimizer and learning rate\n",
        "              metrics=['accuracy']) # Set the metrics"
      ],
      "metadata": {
        "id": "e03v7LLuMfSP"
      },
      "execution_count": 14,
      "outputs": []
    },
    {
      "cell_type": "code",
      "source": [
        "exponential_lr_callback = ExponentialLearningRate(factor=1.005)"
      ],
      "metadata": {
        "id": "PRYxo1QANhA1"
      },
      "execution_count": 15,
      "outputs": []
    },
    {
      "cell_type": "markdown",
      "source": [
        "Let's go ahead and train the compiled model for a single epoch. \n"
      ],
      "metadata": {
        "id": "lNIgkpyeM92K"
      }
    },
    {
      "cell_type": "markdown",
      "source": [
        "### **Q8) Fit the model for a single epoch, using the exponential learning rate callback we defined in the previous code cell. Then, plot the Loss vs Learning rate.**\n",
        "\n",
        "*Hint 1: Just like in scikit-learn, the keras model includes a `.fit()` method to train the algorithm! [Here is the documentation](https://www.tensorflow.org/api_docs/python/tf/keras/Model#fit).*\n",
        "\n",
        "*Hint 2: After training, you can access the recorded losses and corresponding learning rates using the attributes we defined when we defined the class in Q5!*"
      ],
      "metadata": {
        "id": "TiyNQuouRMwQ"
      }
    },
    {
      "cell_type": "code",
      "source": [
        "history = model.fit(X_train, # set the training inputs\n",
        "                    y_train, # set the training labels\n",
        "                    epochs=1, # set the number of epochs\n",
        "                    validation_data=(X_valid, y_valid), # set validation input/labels\n",
        "                    callbacks=[exponential_lr_callback]) # Set the callback"
      ],
      "metadata": {
        "id": "OLjEwl0nRbp4",
        "outputId": "f13ab3b4-6fb6-4546-c16b-3d33f8995649",
        "colab": {
          "base_uri": "https://localhost:8080/"
        }
      },
      "execution_count": 16,
      "outputs": [
        {
          "output_type": "stream",
          "name": "stdout",
          "text": [
            "1563/1563 [==============================] - 9s 5ms/step - loss: nan - accuracy: 0.6528 - val_loss: nan - val_accuracy: 0.0943\n"
          ]
        }
      ]
    },
    {
      "cell_type": "code",
      "source": [
        "# Plotting\n",
        "fig, ax = plt.subplots()\n",
        "\n",
        "ax.plot(exponential_lr_callback.lr, # learning rates\n",
        "        exponential_lr_callback.loss) # losses\n",
        "\n",
        "# Define a tuple with (min_learning_rate, max_learn_rate)\n",
        "x_limits = (min(exponential_lr_callback.lr), max(exponential_lr_callback.lr) )\n",
        "\n",
        "# Set the xscale to logarithmic \n",
        "ax.set_xscale('log')\n",
        "\n",
        "# Draw a horizontal line at the minimum loss value\n",
        "ax.hlines(min( exponential_lr_callback.loss), #Find the minimum loss value to draw a horizontal line\n",
        "          *x_limits, # the star unpacks x_limits to the expected num of args\n",
        "          'g') \n",
        "\n",
        "# Set the limits for drawing the curves\n",
        "ax.set_xlim(x_limits)\n",
        "ax.set_ylim(0,exponential_lr_callback.loss[0]) # use the initial loss as the top y boundary \n",
        "\n",
        "# Display gridlines to see better\n",
        "ax.grid(which='both')\n",
        "\n",
        "ax.set_xlabel(\"Learning rate\")\n",
        "ax.set_ylabel(\"Loss\")"
      ],
      "metadata": {
        "id": "QrQb1q3DSt4X",
        "outputId": "bcc99d19-c962-4b4a-ebba-edcb3beb05d8",
        "colab": {
          "base_uri": "https://localhost:8080/",
          "height": 307
        }
      },
      "execution_count": 17,
      "outputs": [
        {
          "output_type": "execute_result",
          "data": {
            "text/plain": [
              "Text(0, 0.5, 'Loss')"
            ]
          },
          "metadata": {},
          "execution_count": 17
        },
        {
          "output_type": "display_data",
          "data": {
            "text/plain": [
              "<Figure size 432x288 with 1 Axes>"
            ],
            "image/png": "[encoded data removed]"
          },
          "metadata": {
            "needs_background": "light"
          }
        }
      ]
    },
    {
      "cell_type": "markdown",
      "source": [
        "If you used the architecture we defined above with the learning rate we defined above, you should produce a graph that looks like this:\n",
        "<center> <img src='https://unils-my.sharepoint.com/:i:/g/personal/tom_beucler_unil_ch/EUhU2fuy3K1Nm5iuia8ocF8BB2-jU_pAf6h5TA8MaIqrfw?download=1'> </center>\n",
        "\n",
        "In this graph, you can see that the loss reaches a minimum at around 6e-1 and then begins to shoot up violently. Let's avoid that by using half that value (e.g., 3e-1). \n",
        "\n",
        "If you have a different curve, try setting your learning rate to half of the learning rate with the minimum loss! 😃\n"
      ],
      "metadata": {
        "id": "fFppBDPtXSdg"
      }
    },
    {
      "cell_type": "markdown",
      "source": [
        "Now that we have an idea of what the learning rate should be, let's go ahead and start from scratch once more."
      ],
      "metadata": {
        "id": "gzSXelTGz5G8"
      }
    },
    {
      "cell_type": "code",
      "source": [
        "# Run this cell - let's go back to a clean slate!\n",
        "K.clear_session()\n",
        "np.random.seed(rnd_seed)\n",
        "tf.random.set_seed(rnd_seed)"
      ],
      "metadata": {
        "id": "XwJi4Xi6kVZY"
      },
      "execution_count": 18,
      "outputs": []
    },
    {
      "cell_type": "markdown",
      "source": [
        "We also want to instantiate the model again - the weights in our current model are quite bad and if we use it as is it won't be able to learn since the weights are too far away from the solution. There are other ways to do this, but since our model is quite simple it's worth it to just redefine and recompile it."
      ],
      "metadata": {
        "id": "hlt-kl220Bhu"
      }
    },
    {
      "cell_type": "markdown",
      "source": [
        "### **Q9) Redefine and re-compile the model with the learning rate you found in Q8.**"
      ],
      "metadata": {
        "id": "9EBUr0WPatQn"
      }
    },
    {
      "cell_type": "code",
      "source": [
        "# redefine the model\n",
        "model = keras.Sequential([ # call the sequential model class\n",
        "    tf.keras.layers.Flatten(), # flatten the data\n",
        "    tf.keras.layers.Dense(300, activation='relu'), # densely connected ReLU layer, 300 units\n",
        "    tf.keras.layers.Dense(100, activation='relu'), # densely connected ReLU layer, 100 units\n",
        "    tf.keras.layers.Dense(10, activation='softmax')]) # densely connected Softmax layer, 10 units connected Softmax layer, 10 units\n"
      ],
      "metadata": {
        "id": "naT8MpoklIY0"
      },
      "execution_count": 19,
      "outputs": []
    },
    {
      "cell_type": "code",
      "source": [
        "model.compile(loss='sparse_categorical_crossentropy', # Set the loss function\n",
        "              optimizer=tf.keras.optimizers.SGD(learning_rate=0.001), # Set the optimizer and learning rate\n",
        "              metrics=['accuracy']) # Set the metrics"
      ],
      "metadata": {
        "id": "ih9ddZA2bJEE"
      },
      "execution_count": 20,
      "outputs": []
    },
    {
      "cell_type": "markdown",
      "source": [
        "We're now going to set up a saving directory in case you want to try running the model with different learning rates or other hyper-parameters!"
      ],
      "metadata": {
        "id": "jLtjB_1gbgcI"
      }
    },
    {
      "cell_type": "code",
      "source": [
        "#Change this number and rerun this cell whenever you want to change runs\n",
        "run_index = 1 \n",
        "\n",
        "run_logdir = os.path.join(os.curdir, \"my_mnist_logs\", \"run_{:03d}\".format(run_index))\n",
        "\n",
        "print(run_logdir)"
      ],
      "metadata": {
        "id": "Hxqyiz5SbflW",
        "outputId": "3ebfb0b4-a5ba-4c10-cf23-8b55eab02f07",
        "colab": {
          "base_uri": "https://localhost:8080/"
        }
      },
      "execution_count": 21,
      "outputs": [
        {
          "output_type": "stream",
          "name": "stdout",
          "text": [
            "./my_mnist_logs/run_001\n"
          ]
        }
      ]
    },
    {
      "cell_type": "markdown",
      "source": [
        "We'll also set up some additional callbacks.\n",
        "> 1) An early stopping callback ([documentation here](https://www.tensorflow.org/api_docs/python/tf/keras/callbacks/EarlyStopping)). This callback will stop the training if no improvement is found after a `patience` number of epochs. <br> 2) A model checkpoint callback ([documentation here](https://www.tensorflow.org/api_docs/python/tf/keras/callbacks/ModelCheckpoint)). This callback will ensure that only the best version of the model is kept (in case your model's performance reaches a maximum and then deteriorates after a certain number of epochs) <br> 3) A tensorboard callback ([documentation here](https://www.tensorflow.org/api_docs/python/tf/keras/callbacks/TensorBoard)). This callback will enable using Tensorboard to visualize learning curves, metrics, etc. Handy 🙌!"
      ],
      "metadata": {
        "id": "n232QFo3bulH"
      }
    },
    {
      "cell_type": "code",
      "source": [
        "early_stopping_cb = tf.keras.callbacks.EarlyStopping(patience=20)\n",
        "checkpoint_cb = tf.keras.callbacks.ModelCheckpoint(\"my_mnist_model.h5\", save_best_only=True)\n",
        "tensorboard_cb = tf.keras.callbacks.TensorBoard(run_logdir)"
      ],
      "metadata": {
        "id": "9m92fjw3bzhp"
      },
      "execution_count": 22,
      "outputs": []
    },
    {
      "cell_type": "markdown",
      "source": [
        "Let's go ahead and fit the model again!"
      ],
      "metadata": {
        "id": "gohJkkWOd0Qx"
      }
    },
    {
      "cell_type": "markdown",
      "source": [
        "### **Q10) Fit the updated model for 100 epochs** "
      ],
      "metadata": {
        "id": "hHX8OjI7fJfN"
      }
    },
    {
      "cell_type": "code",
      "source": [
        "history = model.fit(X_train, # inputs\n",
        "                    y_train, # labels\n",
        "                    epochs=100, #epochs\n",
        "                    validation_data=(X_valid, y_valid),\n",
        "                    callbacks=[checkpoint_cb, early_stopping_cb, tensorboard_cb])"
      ],
      "metadata": {
        "id": "YeN1mGqdb2EK",
        "outputId": "f7012ad9-eb76-4e4f-f282-5eef140e5c89",
        "colab": {
          "base_uri": "https://localhost:8080/",
          "height": 1000
        }
      },
      "execution_count": 23,
      "outputs": [
        {
          "output_type": "stream",
          "name": "stdout",
          "text": [
            "Epoch 1/100\n",
            "1563/1563 [==============================] - 8s 5ms/step - loss: 1.8521 - accuracy: 0.5087 - val_loss: 1.3348 - val_accuracy: 0.7748\n",
            "Epoch 2/100\n",
            "1563/1563 [==============================] - 8s 5ms/step - loss: 0.9939 - accuracy: 0.8117 - val_loss: 0.7656 - val_accuracy: 0.8348\n",
            "Epoch 3/100\n",
            "1563/1563 [==============================] - 8s 5ms/step - loss: 0.6495 - accuracy: 0.8517 - val_loss: 0.5758 - val_accuracy: 0.8563\n",
            "Epoch 4/100\n",
            "1563/1563 [==============================] - 7s 5ms/step - loss: 0.5195 - accuracy: 0.8703 - val_loss: 0.4917 - val_accuracy: 0.8732\n",
            "Epoch 5/100\n",
            "1563/1563 [==============================] - 7s 4ms/step - loss: 0.4540 - accuracy: 0.8815 - val_loss: 0.4429 - val_accuracy: 0.8814\n",
            "Epoch 6/100\n",
            "1563/1563 [==============================] - 7s 5ms/step - loss: 0.4140 - accuracy: 0.8890 - val_loss: 0.4124 - val_accuracy: 0.8876\n",
            "Epoch 7/100\n",
            "1563/1563 [==============================] - 7s 5ms/step - loss: 0.3868 - accuracy: 0.8944 - val_loss: 0.3896 - val_accuracy: 0.8933\n",
            "Epoch 8/100\n",
            "1563/1563 [==============================] - 7s 4ms/step - loss: 0.3663 - accuracy: 0.8978 - val_loss: 0.3729 - val_accuracy: 0.8965\n",
            "Epoch 9/100\n",
            "1563/1563 [==============================] - 7s 5ms/step - loss: 0.3502 - accuracy: 0.9019 - val_loss: 0.3596 - val_accuracy: 0.8997\n",
            "Epoch 10/100\n",
            "1563/1563 [==============================] - 7s 4ms/step - loss: 0.3370 - accuracy: 0.9053 - val_loss: 0.3474 - val_accuracy: 0.9028\n",
            "Epoch 11/100\n",
            "1563/1563 [==============================] - 7s 5ms/step - loss: 0.3255 - accuracy: 0.9080 - val_loss: 0.3381 - val_accuracy: 0.9050\n",
            "Epoch 12/100\n",
            "1563/1563 [==============================] - 7s 4ms/step - loss: 0.3156 - accuracy: 0.9102 - val_loss: 0.3288 - val_accuracy: 0.9064\n",
            "Epoch 13/100\n",
            "1563/1563 [==============================] - 7s 5ms/step - loss: 0.3068 - accuracy: 0.9128 - val_loss: 0.3213 - val_accuracy: 0.9088\n",
            "Epoch 14/100\n",
            "1563/1563 [==============================] - 8s 5ms/step - loss: 0.2989 - accuracy: 0.9146 - val_loss: 0.3143 - val_accuracy: 0.9111\n",
            "Epoch 15/100\n",
            "1563/1563 [==============================] - 7s 4ms/step - loss: 0.2918 - accuracy: 0.9163 - val_loss: 0.3077 - val_accuracy: 0.9119\n",
            "Epoch 16/100\n",
            "1563/1563 [==============================] - 7s 4ms/step - loss: 0.2850 - accuracy: 0.9186 - val_loss: 0.3019 - val_accuracy: 0.9143\n",
            "Epoch 17/100\n",
            "1563/1563 [==============================] - 7s 5ms/step - loss: 0.2789 - accuracy: 0.9202 - val_loss: 0.2967 - val_accuracy: 0.9162\n",
            "Epoch 18/100\n",
            "1563/1563 [==============================] - 8s 5ms/step - loss: 0.2731 - accuracy: 0.9220 - val_loss: 0.2912 - val_accuracy: 0.9173\n",
            "Epoch 19/100\n",
            "1563/1563 [==============================] - 7s 5ms/step - loss: 0.2676 - accuracy: 0.9235 - val_loss: 0.2865 - val_accuracy: 0.9184\n",
            "Epoch 20/100\n",
            "1563/1563 [==============================] - 7s 5ms/step - loss: 0.2625 - accuracy: 0.9256 - val_loss: 0.2819 - val_accuracy: 0.9198\n",
            "Epoch 21/100\n",
            "1563/1563 [==============================] - 6s 4ms/step - loss: 0.2576 - accuracy: 0.9264 - val_loss: 0.2784 - val_accuracy: 0.9204\n",
            "Epoch 22/100\n",
            "1563/1563 [==============================] - 6s 4ms/step - loss: 0.2531 - accuracy: 0.9280 - val_loss: 0.2735 - val_accuracy: 0.9230\n",
            "Epoch 23/100\n",
            "1563/1563 [==============================] - 6s 4ms/step - loss: 0.2486 - accuracy: 0.9294 - val_loss: 0.2703 - val_accuracy: 0.9234\n",
            "Epoch 24/100\n",
            "1563/1563 [==============================] - 6s 4ms/step - loss: 0.2444 - accuracy: 0.9307 - val_loss: 0.2660 - val_accuracy: 0.9246\n",
            "Epoch 25/100\n",
            "1563/1563 [==============================] - 7s 4ms/step - loss: 0.2403 - accuracy: 0.9318 - val_loss: 0.2629 - val_accuracy: 0.9258\n",
            "Epoch 26/100\n",
            "1563/1563 [==============================] - 6s 4ms/step - loss: 0.2364 - accuracy: 0.9328 - val_loss: 0.2589 - val_accuracy: 0.9272\n",
            "Epoch 27/100\n",
            "1563/1563 [==============================] - 7s 4ms/step - loss: 0.2328 - accuracy: 0.9338 - val_loss: 0.2550 - val_accuracy: 0.9268\n",
            "Epoch 28/100\n",
            "1563/1563 [==============================] - 7s 5ms/step - loss: 0.2291 - accuracy: 0.9353 - val_loss: 0.2516 - val_accuracy: 0.9277\n",
            "Epoch 29/100\n",
            "1563/1563 [==============================] - 7s 4ms/step - loss: 0.2255 - accuracy: 0.9364 - val_loss: 0.2490 - val_accuracy: 0.9298\n",
            "Epoch 30/100\n",
            "1563/1563 [==============================] - 7s 4ms/step - loss: 0.2221 - accuracy: 0.9367 - val_loss: 0.2451 - val_accuracy: 0.9291\n",
            "Epoch 31/100\n",
            "1563/1563 [==============================] - 6s 4ms/step - loss: 0.2188 - accuracy: 0.9383 - val_loss: 0.2421 - val_accuracy: 0.9307\n",
            "Epoch 32/100\n",
            "1563/1563 [==============================] - 7s 4ms/step - loss: 0.2156 - accuracy: 0.9390 - val_loss: 0.2396 - val_accuracy: 0.9318\n",
            "Epoch 33/100\n",
            "1563/1563 [==============================] - 7s 4ms/step - loss: 0.2125 - accuracy: 0.9397 - val_loss: 0.2369 - val_accuracy: 0.9326\n",
            "Epoch 34/100\n",
            "1563/1563 [==============================] - 7s 4ms/step - loss: 0.2095 - accuracy: 0.9409 - val_loss: 0.2332 - val_accuracy: 0.9327\n",
            "Epoch 35/100\n",
            "1563/1563 [==============================] - 7s 4ms/step - loss: 0.2064 - accuracy: 0.9412 - val_loss: 0.2311 - val_accuracy: 0.9341\n",
            "Epoch 36/100\n",
            "1563/1563 [==============================] - 7s 4ms/step - loss: 0.2036 - accuracy: 0.9422 - val_loss: 0.2279 - val_accuracy: 0.9342\n",
            "Epoch 37/100\n",
            "1563/1563 [==============================] - 7s 5ms/step - loss: 0.2007 - accuracy: 0.9428 - val_loss: 0.2263 - val_accuracy: 0.9349\n",
            "Epoch 38/100\n",
            "1563/1563 [==============================] - 10s 7ms/step - loss: 0.1983 - accuracy: 0.9437 - val_loss: 0.2232 - val_accuracy: 0.9354\n",
            "Epoch 39/100\n",
            "1563/1563 [==============================] - 7s 5ms/step - loss: 0.1955 - accuracy: 0.9448 - val_loss: 0.2207 - val_accuracy: 0.9368\n",
            "Epoch 40/100\n",
            "1563/1563 [==============================] - 8s 5ms/step - loss: 0.1929 - accuracy: 0.9451 - val_loss: 0.2182 - val_accuracy: 0.9369\n",
            "Epoch 41/100\n",
            "1563/1563 [==============================] - 8s 5ms/step - loss: 0.1904 - accuracy: 0.9464 - val_loss: 0.2161 - val_accuracy: 0.9373\n",
            "Epoch 42/100\n",
            "1563/1563 [==============================] - 7s 5ms/step - loss: 0.1879 - accuracy: 0.9469 - val_loss: 0.2140 - val_accuracy: 0.9400\n",
            "Epoch 43/100\n",
            "1563/1563 [==============================] - 7s 5ms/step - loss: 0.1855 - accuracy: 0.9478 - val_loss: 0.2114 - val_accuracy: 0.9399\n",
            "Epoch 44/100\n",
            "1563/1563 [==============================] - 8s 5ms/step - loss: 0.1831 - accuracy: 0.9482 - val_loss: 0.2097 - val_accuracy: 0.9407\n",
            "Epoch 45/100\n",
            "1563/1563 [==============================] - 8s 5ms/step - loss: 0.1808 - accuracy: 0.9487 - val_loss: 0.2073 - val_accuracy: 0.9411\n",
            "Epoch 46/100\n",
            "1563/1563 [==============================] - 8s 5ms/step - loss: 0.1785 - accuracy: 0.9494 - val_loss: 0.2056 - val_accuracy: 0.9418\n",
            "Epoch 47/100\n",
            "1563/1563 [==============================] - 7s 5ms/step - loss: 0.1763 - accuracy: 0.9500 - val_loss: 0.2035 - val_accuracy: 0.9425\n",
            "Epoch 48/100\n",
            "1563/1563 [==============================] - 8s 5ms/step - loss: 0.1741 - accuracy: 0.9508 - val_loss: 0.2012 - val_accuracy: 0.9427\n",
            "Epoch 49/100\n",
            "1563/1563 [==============================] - 7s 4ms/step - loss: 0.1721 - accuracy: 0.9513 - val_loss: 0.1991 - val_accuracy: 0.9430\n",
            "Epoch 50/100\n",
            "1563/1563 [==============================] - 7s 4ms/step - loss: 0.1699 - accuracy: 0.9518 - val_loss: 0.1983 - val_accuracy: 0.9441\n",
            "Epoch 51/100\n",
            "1563/1563 [==============================] - 7s 4ms/step - loss: 0.1680 - accuracy: 0.9520 - val_loss: 0.1964 - val_accuracy: 0.9435\n",
            "Epoch 52/100\n",
            "1563/1563 [==============================] - 7s 5ms/step - loss: 0.1659 - accuracy: 0.9529 - val_loss: 0.1939 - val_accuracy: 0.9455\n",
            "Epoch 53/100\n",
            "1563/1563 [==============================] - 7s 4ms/step - loss: 0.1639 - accuracy: 0.9537 - val_loss: 0.1923 - val_accuracy: 0.9456\n",
            "Epoch 54/100\n",
            "1563/1563 [==============================] - 7s 4ms/step - loss: 0.1621 - accuracy: 0.9538 - val_loss: 0.1904 - val_accuracy: 0.9466\n",
            "Epoch 55/100\n",
            "1563/1563 [==============================] - 7s 5ms/step - loss: 0.1601 - accuracy: 0.9543 - val_loss: 0.1884 - val_accuracy: 0.9462\n",
            "Epoch 56/100\n",
            "1563/1563 [==============================] - 7s 5ms/step - loss: 0.1583 - accuracy: 0.9548 - val_loss: 0.1867 - val_accuracy: 0.9468\n",
            "Epoch 57/100\n",
            "1563/1563 [==============================] - 7s 4ms/step - loss: 0.1565 - accuracy: 0.9553 - val_loss: 0.1851 - val_accuracy: 0.9468\n",
            "Epoch 58/100\n",
            "1563/1563 [==============================] - 7s 5ms/step - loss: 0.1547 - accuracy: 0.9556 - val_loss: 0.1839 - val_accuracy: 0.9476\n",
            "Epoch 59/100\n",
            "1563/1563 [==============================] - 7s 4ms/step - loss: 0.1529 - accuracy: 0.9564 - val_loss: 0.1824 - val_accuracy: 0.9484\n",
            "Epoch 60/100\n",
            "1563/1563 [==============================] - 7s 5ms/step - loss: 0.1513 - accuracy: 0.9571 - val_loss: 0.1802 - val_accuracy: 0.9481\n",
            "Epoch 61/100\n",
            "1563/1563 [==============================] - 7s 5ms/step - loss: 0.1496 - accuracy: 0.9574 - val_loss: 0.1788 - val_accuracy: 0.9490\n",
            "Epoch 62/100\n",
            "1318/1563 [========================>.....] - ETA: 0s - loss: 0.1477 - accuracy: 0.9581"
          ]
        },
        {
          "output_type": "error",
          "ename": "KeyboardInterrupt",
          "evalue": "ignored",
          "traceback": [
            "\u001b[0;31m---------------------------------------------------------------------------\u001b[0m",
            "\u001b[0;31mKeyboardInterrupt\u001b[0m                         Traceback (most recent call last)",
            "\u001b[0;32m<ipython-input-23-d06600455647>\u001b[0m in \u001b[0;36m<module>\u001b[0;34m\u001b[0m\n\u001b[1;32m      3\u001b[0m                     \u001b[0mepochs\u001b[0m\u001b[0;34m=\u001b[0m\u001b[0;36m100\u001b[0m\u001b[0;34m,\u001b[0m \u001b[0;31m#epochs\u001b[0m\u001b[0;34m\u001b[0m\u001b[0;34m\u001b[0m\u001b[0m\n\u001b[1;32m      4\u001b[0m                     \u001b[0mvalidation_data\u001b[0m\u001b[0;34m=\u001b[0m\u001b[0;34m(\u001b[0m\u001b[0mX_valid\u001b[0m\u001b[0;34m,\u001b[0m \u001b[0my_valid\u001b[0m\u001b[0;34m)\u001b[0m\u001b[0;34m,\u001b[0m\u001b[0;34m\u001b[0m\u001b[0;34m\u001b[0m\u001b[0m\n\u001b[0;32m----> 5\u001b[0;31m                     callbacks=[checkpoint_cb, early_stopping_cb, tensorboard_cb])\n\u001b[0m",
            "\u001b[0;32m/usr/local/lib/python3.7/dist-packages/keras/utils/traceback_utils.py\u001b[0m in \u001b[0;36merror_handler\u001b[0;34m(*args, **kwargs)\u001b[0m\n\u001b[1;32m     62\u001b[0m     \u001b[0mfiltered_tb\u001b[0m \u001b[0;34m=\u001b[0m \u001b[0;32mNone\u001b[0m\u001b[0;34m\u001b[0m\u001b[0;34m\u001b[0m\u001b[0m\n\u001b[1;32m     63\u001b[0m     \u001b[0;32mtry\u001b[0m\u001b[0;34m:\u001b[0m\u001b[0;34m\u001b[0m\u001b[0;34m\u001b[0m\u001b[0m\n\u001b[0;32m---> 64\u001b[0;31m       \u001b[0;32mreturn\u001b[0m \u001b[0mfn\u001b[0m\u001b[0;34m(\u001b[0m\u001b[0;34m*\u001b[0m\u001b[0margs\u001b[0m\u001b[0;34m,\u001b[0m \u001b[0;34m**\u001b[0m\u001b[0mkwargs\u001b[0m\u001b[0;34m)\u001b[0m\u001b[0;34m\u001b[0m\u001b[0;34m\u001b[0m\u001b[0m\n\u001b[0m\u001b[1;32m     65\u001b[0m     \u001b[0;32mexcept\u001b[0m \u001b[0mException\u001b[0m \u001b[0;32mas\u001b[0m \u001b[0me\u001b[0m\u001b[0;34m:\u001b[0m  \u001b[0;31m# pylint: disable=broad-except\u001b[0m\u001b[0;34m\u001b[0m\u001b[0;34m\u001b[0m\u001b[0m\n\u001b[1;32m     66\u001b[0m       \u001b[0mfiltered_tb\u001b[0m \u001b[0;34m=\u001b[0m \u001b[0m_process_traceback_frames\u001b[0m\u001b[0;34m(\u001b[0m\u001b[0me\u001b[0m\u001b[0;34m.\u001b[0m\u001b[0m__traceback__\u001b[0m\u001b[0;34m)\u001b[0m\u001b[0;34m\u001b[0m\u001b[0;34m\u001b[0m\u001b[0m\n",
            "\u001b[0;32m/usr/local/lib/python3.7/dist-packages/keras/engine/training.py\u001b[0m in \u001b[0;36mfit\u001b[0;34m(self, x, y, batch_size, epochs, verbose, callbacks, validation_split, validation_data, shuffle, class_weight, sample_weight, initial_epoch, steps_per_epoch, validation_steps, validation_batch_size, validation_freq, max_queue_size, workers, use_multiprocessing)\u001b[0m\n\u001b[1;32m   1412\u001b[0m               \u001b[0mlogs\u001b[0m \u001b[0;34m=\u001b[0m \u001b[0mtmp_logs\u001b[0m  \u001b[0;31m# No error, now safe to assign to logs.\u001b[0m\u001b[0;34m\u001b[0m\u001b[0;34m\u001b[0m\u001b[0m\n\u001b[1;32m   1413\u001b[0m               \u001b[0mend_step\u001b[0m \u001b[0;34m=\u001b[0m \u001b[0mstep\u001b[0m \u001b[0;34m+\u001b[0m \u001b[0mdata_handler\u001b[0m\u001b[0;34m.\u001b[0m\u001b[0mstep_increment\u001b[0m\u001b[0;34m\u001b[0m\u001b[0;34m\u001b[0m\u001b[0m\n\u001b[0;32m-> 1414\u001b[0;31m               \u001b[0mcallbacks\u001b[0m\u001b[0;34m.\u001b[0m\u001b[0mon_train_batch_end\u001b[0m\u001b[0;34m(\u001b[0m\u001b[0mend_step\u001b[0m\u001b[0;34m,\u001b[0m \u001b[0mlogs\u001b[0m\u001b[0;34m)\u001b[0m\u001b[0;34m\u001b[0m\u001b[0;34m\u001b[0m\u001b[0m\n\u001b[0m\u001b[1;32m   1415\u001b[0m               \u001b[0;32mif\u001b[0m \u001b[0mself\u001b[0m\u001b[0;34m.\u001b[0m\u001b[0mstop_training\u001b[0m\u001b[0;34m:\u001b[0m\u001b[0;34m\u001b[0m\u001b[0;34m\u001b[0m\u001b[0m\n\u001b[1;32m   1416\u001b[0m                 \u001b[0;32mbreak\u001b[0m\u001b[0;34m\u001b[0m\u001b[0;34m\u001b[0m\u001b[0m\n",
            "\u001b[0;32m/usr/local/lib/python3.7/dist-packages/keras/callbacks.py\u001b[0m in \u001b[0;36mon_train_batch_end\u001b[0;34m(self, batch, logs)\u001b[0m\n\u001b[1;32m    436\u001b[0m     \"\"\"\n\u001b[1;32m    437\u001b[0m     \u001b[0;32mif\u001b[0m \u001b[0mself\u001b[0m\u001b[0;34m.\u001b[0m\u001b[0m_should_call_train_batch_hooks\u001b[0m\u001b[0;34m:\u001b[0m\u001b[0;34m\u001b[0m\u001b[0;34m\u001b[0m\u001b[0m\n\u001b[0;32m--> 438\u001b[0;31m       \u001b[0mself\u001b[0m\u001b[0;34m.\u001b[0m\u001b[0m_call_batch_hook\u001b[0m\u001b[0;34m(\u001b[0m\u001b[0mModeKeys\u001b[0m\u001b[0;34m.\u001b[0m\u001b[0mTRAIN\u001b[0m\u001b[0;34m,\u001b[0m \u001b[0;34m'end'\u001b[0m\u001b[0;34m,\u001b[0m \u001b[0mbatch\u001b[0m\u001b[0;34m,\u001b[0m \u001b[0mlogs\u001b[0m\u001b[0;34m=\u001b[0m\u001b[0mlogs\u001b[0m\u001b[0;34m)\u001b[0m\u001b[0;34m\u001b[0m\u001b[0;34m\u001b[0m\u001b[0m\n\u001b[0m\u001b[1;32m    439\u001b[0m \u001b[0;34m\u001b[0m\u001b[0m\n\u001b[1;32m    440\u001b[0m   \u001b[0;32mdef\u001b[0m \u001b[0mon_test_batch_begin\u001b[0m\u001b[0;34m(\u001b[0m\u001b[0mself\u001b[0m\u001b[0;34m,\u001b[0m \u001b[0mbatch\u001b[0m\u001b[0;34m,\u001b[0m \u001b[0mlogs\u001b[0m\u001b[0;34m=\u001b[0m\u001b[0;32mNone\u001b[0m\u001b[0;34m)\u001b[0m\u001b[0;34m:\u001b[0m\u001b[0;34m\u001b[0m\u001b[0;34m\u001b[0m\u001b[0m\n",
            "\u001b[0;32m/usr/local/lib/python3.7/dist-packages/keras/callbacks.py\u001b[0m in \u001b[0;36m_call_batch_hook\u001b[0;34m(self, mode, hook, batch, logs)\u001b[0m\n\u001b[1;32m    295\u001b[0m       \u001b[0mself\u001b[0m\u001b[0;34m.\u001b[0m\u001b[0m_call_batch_begin_hook\u001b[0m\u001b[0;34m(\u001b[0m\u001b[0mmode\u001b[0m\u001b[0;34m,\u001b[0m \u001b[0mbatch\u001b[0m\u001b[0;34m,\u001b[0m \u001b[0mlogs\u001b[0m\u001b[0;34m)\u001b[0m\u001b[0;34m\u001b[0m\u001b[0;34m\u001b[0m\u001b[0m\n\u001b[1;32m    296\u001b[0m     \u001b[0;32melif\u001b[0m \u001b[0mhook\u001b[0m \u001b[0;34m==\u001b[0m \u001b[0;34m'end'\u001b[0m\u001b[0;34m:\u001b[0m\u001b[0;34m\u001b[0m\u001b[0;34m\u001b[0m\u001b[0m\n\u001b[0;32m--> 297\u001b[0;31m       \u001b[0mself\u001b[0m\u001b[0;34m.\u001b[0m\u001b[0m_call_batch_end_hook\u001b[0m\u001b[0;34m(\u001b[0m\u001b[0mmode\u001b[0m\u001b[0;34m,\u001b[0m \u001b[0mbatch\u001b[0m\u001b[0;34m,\u001b[0m \u001b[0mlogs\u001b[0m\u001b[0;34m)\u001b[0m\u001b[0;34m\u001b[0m\u001b[0;34m\u001b[0m\u001b[0m\n\u001b[0m\u001b[1;32m    298\u001b[0m     \u001b[0;32melse\u001b[0m\u001b[0;34m:\u001b[0m\u001b[0;34m\u001b[0m\u001b[0;34m\u001b[0m\u001b[0m\n\u001b[1;32m    299\u001b[0m       raise ValueError(\n",
            "\u001b[0;32m/usr/local/lib/python3.7/dist-packages/keras/callbacks.py\u001b[0m in \u001b[0;36m_call_batch_end_hook\u001b[0;34m(self, mode, batch, logs)\u001b[0m\n\u001b[1;32m    316\u001b[0m       \u001b[0mself\u001b[0m\u001b[0;34m.\u001b[0m\u001b[0m_batch_times\u001b[0m\u001b[0;34m.\u001b[0m\u001b[0mappend\u001b[0m\u001b[0;34m(\u001b[0m\u001b[0mbatch_time\u001b[0m\u001b[0;34m)\u001b[0m\u001b[0;34m\u001b[0m\u001b[0;34m\u001b[0m\u001b[0m\n\u001b[1;32m    317\u001b[0m \u001b[0;34m\u001b[0m\u001b[0m\n\u001b[0;32m--> 318\u001b[0;31m     \u001b[0mself\u001b[0m\u001b[0;34m.\u001b[0m\u001b[0m_call_batch_hook_helper\u001b[0m\u001b[0;34m(\u001b[0m\u001b[0mhook_name\u001b[0m\u001b[0;34m,\u001b[0m \u001b[0mbatch\u001b[0m\u001b[0;34m,\u001b[0m \u001b[0mlogs\u001b[0m\u001b[0;34m)\u001b[0m\u001b[0;34m\u001b[0m\u001b[0;34m\u001b[0m\u001b[0m\n\u001b[0m\u001b[1;32m    319\u001b[0m \u001b[0;34m\u001b[0m\u001b[0m\n\u001b[1;32m    320\u001b[0m     \u001b[0;32mif\u001b[0m \u001b[0mlen\u001b[0m\u001b[0;34m(\u001b[0m\u001b[0mself\u001b[0m\u001b[0;34m.\u001b[0m\u001b[0m_batch_times\u001b[0m\u001b[0;34m)\u001b[0m \u001b[0;34m>=\u001b[0m \u001b[0mself\u001b[0m\u001b[0;34m.\u001b[0m\u001b[0m_num_batches_for_timing_check\u001b[0m\u001b[0;34m:\u001b[0m\u001b[0;34m\u001b[0m\u001b[0;34m\u001b[0m\u001b[0m\n",
            "\u001b[0;32m/usr/local/lib/python3.7/dist-packages/keras/callbacks.py\u001b[0m in \u001b[0;36m_call_batch_hook_helper\u001b[0;34m(self, hook_name, batch, logs)\u001b[0m\n\u001b[1;32m    354\u001b[0m     \u001b[0;32mfor\u001b[0m \u001b[0mcallback\u001b[0m \u001b[0;32min\u001b[0m \u001b[0mself\u001b[0m\u001b[0;34m.\u001b[0m\u001b[0mcallbacks\u001b[0m\u001b[0;34m:\u001b[0m\u001b[0;34m\u001b[0m\u001b[0;34m\u001b[0m\u001b[0m\n\u001b[1;32m    355\u001b[0m       \u001b[0mhook\u001b[0m \u001b[0;34m=\u001b[0m \u001b[0mgetattr\u001b[0m\u001b[0;34m(\u001b[0m\u001b[0mcallback\u001b[0m\u001b[0;34m,\u001b[0m \u001b[0mhook_name\u001b[0m\u001b[0;34m)\u001b[0m\u001b[0;34m\u001b[0m\u001b[0;34m\u001b[0m\u001b[0m\n\u001b[0;32m--> 356\u001b[0;31m       \u001b[0mhook\u001b[0m\u001b[0;34m(\u001b[0m\u001b[0mbatch\u001b[0m\u001b[0;34m,\u001b[0m \u001b[0mlogs\u001b[0m\u001b[0;34m)\u001b[0m\u001b[0;34m\u001b[0m\u001b[0;34m\u001b[0m\u001b[0m\n\u001b[0m\u001b[1;32m    357\u001b[0m \u001b[0;34m\u001b[0m\u001b[0m\n\u001b[1;32m    358\u001b[0m     \u001b[0;32mif\u001b[0m \u001b[0mself\u001b[0m\u001b[0;34m.\u001b[0m\u001b[0m_check_timing\u001b[0m\u001b[0;34m:\u001b[0m\u001b[0;34m\u001b[0m\u001b[0;34m\u001b[0m\u001b[0m\n",
            "\u001b[0;32m/usr/local/lib/python3.7/dist-packages/keras/callbacks.py\u001b[0m in \u001b[0;36mon_train_batch_end\u001b[0;34m(self, batch, logs)\u001b[0m\n\u001b[1;32m   1032\u001b[0m \u001b[0;34m\u001b[0m\u001b[0m\n\u001b[1;32m   1033\u001b[0m   \u001b[0;32mdef\u001b[0m \u001b[0mon_train_batch_end\u001b[0m\u001b[0;34m(\u001b[0m\u001b[0mself\u001b[0m\u001b[0;34m,\u001b[0m \u001b[0mbatch\u001b[0m\u001b[0;34m,\u001b[0m \u001b[0mlogs\u001b[0m\u001b[0;34m=\u001b[0m\u001b[0;32mNone\u001b[0m\u001b[0;34m)\u001b[0m\u001b[0;34m:\u001b[0m\u001b[0;34m\u001b[0m\u001b[0;34m\u001b[0m\u001b[0m\n\u001b[0;32m-> 1034\u001b[0;31m     \u001b[0mself\u001b[0m\u001b[0;34m.\u001b[0m\u001b[0m_batch_update_progbar\u001b[0m\u001b[0;34m(\u001b[0m\u001b[0mbatch\u001b[0m\u001b[0;34m,\u001b[0m \u001b[0mlogs\u001b[0m\u001b[0;34m)\u001b[0m\u001b[0;34m\u001b[0m\u001b[0;34m\u001b[0m\u001b[0m\n\u001b[0m\u001b[1;32m   1035\u001b[0m \u001b[0;34m\u001b[0m\u001b[0m\n\u001b[1;32m   1036\u001b[0m   \u001b[0;32mdef\u001b[0m \u001b[0mon_test_batch_end\u001b[0m\u001b[0;34m(\u001b[0m\u001b[0mself\u001b[0m\u001b[0;34m,\u001b[0m \u001b[0mbatch\u001b[0m\u001b[0;34m,\u001b[0m \u001b[0mlogs\u001b[0m\u001b[0;34m=\u001b[0m\u001b[0;32mNone\u001b[0m\u001b[0;34m)\u001b[0m\u001b[0;34m:\u001b[0m\u001b[0;34m\u001b[0m\u001b[0;34m\u001b[0m\u001b[0m\n",
            "\u001b[0;32m/usr/local/lib/python3.7/dist-packages/keras/callbacks.py\u001b[0m in \u001b[0;36m_batch_update_progbar\u001b[0;34m(self, batch, logs)\u001b[0m\n\u001b[1;32m   1104\u001b[0m     \u001b[0;32mif\u001b[0m \u001b[0mself\u001b[0m\u001b[0;34m.\u001b[0m\u001b[0mverbose\u001b[0m \u001b[0;34m==\u001b[0m \u001b[0;36m1\u001b[0m\u001b[0;34m:\u001b[0m\u001b[0;34m\u001b[0m\u001b[0;34m\u001b[0m\u001b[0m\n\u001b[1;32m   1105\u001b[0m       \u001b[0;31m# Only block async when verbose = 1.\u001b[0m\u001b[0;34m\u001b[0m\u001b[0;34m\u001b[0m\u001b[0;34m\u001b[0m\u001b[0m\n\u001b[0;32m-> 1106\u001b[0;31m       \u001b[0mlogs\u001b[0m \u001b[0;34m=\u001b[0m \u001b[0mtf_utils\u001b[0m\u001b[0;34m.\u001b[0m\u001b[0msync_to_numpy_or_python_type\u001b[0m\u001b[0;34m(\u001b[0m\u001b[0mlogs\u001b[0m\u001b[0;34m)\u001b[0m\u001b[0;34m\u001b[0m\u001b[0;34m\u001b[0m\u001b[0m\n\u001b[0m\u001b[1;32m   1107\u001b[0m       \u001b[0mself\u001b[0m\u001b[0;34m.\u001b[0m\u001b[0mprogbar\u001b[0m\u001b[0;34m.\u001b[0m\u001b[0mupdate\u001b[0m\u001b[0;34m(\u001b[0m\u001b[0mself\u001b[0m\u001b[0;34m.\u001b[0m\u001b[0mseen\u001b[0m\u001b[0;34m,\u001b[0m \u001b[0mlist\u001b[0m\u001b[0;34m(\u001b[0m\u001b[0mlogs\u001b[0m\u001b[0;34m.\u001b[0m\u001b[0mitems\u001b[0m\u001b[0;34m(\u001b[0m\u001b[0;34m)\u001b[0m\u001b[0;34m)\u001b[0m\u001b[0;34m,\u001b[0m \u001b[0mfinalize\u001b[0m\u001b[0;34m=\u001b[0m\u001b[0;32mFalse\u001b[0m\u001b[0;34m)\u001b[0m\u001b[0;34m\u001b[0m\u001b[0;34m\u001b[0m\u001b[0m\n\u001b[1;32m   1108\u001b[0m \u001b[0;34m\u001b[0m\u001b[0m\n",
            "\u001b[0;32m/usr/local/lib/python3.7/dist-packages/keras/utils/tf_utils.py\u001b[0m in \u001b[0;36msync_to_numpy_or_python_type\u001b[0;34m(tensors)\u001b[0m\n\u001b[1;32m    605\u001b[0m     \u001b[0;32mreturn\u001b[0m \u001b[0mt\u001b[0m\u001b[0;34m.\u001b[0m\u001b[0mitem\u001b[0m\u001b[0;34m(\u001b[0m\u001b[0;34m)\u001b[0m \u001b[0;32mif\u001b[0m \u001b[0mnp\u001b[0m\u001b[0;34m.\u001b[0m\u001b[0mndim\u001b[0m\u001b[0;34m(\u001b[0m\u001b[0mt\u001b[0m\u001b[0;34m)\u001b[0m \u001b[0;34m==\u001b[0m \u001b[0;36m0\u001b[0m \u001b[0;32melse\u001b[0m \u001b[0mt\u001b[0m\u001b[0;34m\u001b[0m\u001b[0;34m\u001b[0m\u001b[0m\n\u001b[1;32m    606\u001b[0m \u001b[0;34m\u001b[0m\u001b[0m\n\u001b[0;32m--> 607\u001b[0;31m   \u001b[0;32mreturn\u001b[0m \u001b[0mtf\u001b[0m\u001b[0;34m.\u001b[0m\u001b[0mnest\u001b[0m\u001b[0;34m.\u001b[0m\u001b[0mmap_structure\u001b[0m\u001b[0;34m(\u001b[0m\u001b[0m_to_single_numpy_or_python_type\u001b[0m\u001b[0;34m,\u001b[0m \u001b[0mtensors\u001b[0m\u001b[0;34m)\u001b[0m\u001b[0;34m\u001b[0m\u001b[0;34m\u001b[0m\u001b[0m\n\u001b[0m\u001b[1;32m    608\u001b[0m \u001b[0;34m\u001b[0m\u001b[0m\n\u001b[1;32m    609\u001b[0m \u001b[0;34m\u001b[0m\u001b[0m\n",
            "\u001b[0;32m/usr/local/lib/python3.7/dist-packages/tensorflow/python/util/nest.py\u001b[0m in \u001b[0;36mmap_structure\u001b[0;34m(func, *structure, **kwargs)\u001b[0m\n\u001b[1;32m    914\u001b[0m \u001b[0;34m\u001b[0m\u001b[0m\n\u001b[1;32m    915\u001b[0m   return pack_sequence_as(\n\u001b[0;32m--> 916\u001b[0;31m       \u001b[0mstructure\u001b[0m\u001b[0;34m[\u001b[0m\u001b[0;36m0\u001b[0m\u001b[0;34m]\u001b[0m\u001b[0;34m,\u001b[0m \u001b[0;34m[\u001b[0m\u001b[0mfunc\u001b[0m\u001b[0;34m(\u001b[0m\u001b[0;34m*\u001b[0m\u001b[0mx\u001b[0m\u001b[0;34m)\u001b[0m \u001b[0;32mfor\u001b[0m \u001b[0mx\u001b[0m \u001b[0;32min\u001b[0m \u001b[0mentries\u001b[0m\u001b[0;34m]\u001b[0m\u001b[0;34m,\u001b[0m\u001b[0;34m\u001b[0m\u001b[0;34m\u001b[0m\u001b[0m\n\u001b[0m\u001b[1;32m    917\u001b[0m       expand_composites=expand_composites)\n\u001b[1;32m    918\u001b[0m \u001b[0;34m\u001b[0m\u001b[0m\n",
            "\u001b[0;32m/usr/local/lib/python3.7/dist-packages/tensorflow/python/util/nest.py\u001b[0m in \u001b[0;36m<listcomp>\u001b[0;34m(.0)\u001b[0m\n\u001b[1;32m    914\u001b[0m \u001b[0;34m\u001b[0m\u001b[0m\n\u001b[1;32m    915\u001b[0m   return pack_sequence_as(\n\u001b[0;32m--> 916\u001b[0;31m       \u001b[0mstructure\u001b[0m\u001b[0;34m[\u001b[0m\u001b[0;36m0\u001b[0m\u001b[0;34m]\u001b[0m\u001b[0;34m,\u001b[0m \u001b[0;34m[\u001b[0m\u001b[0mfunc\u001b[0m\u001b[0;34m(\u001b[0m\u001b[0;34m*\u001b[0m\u001b[0mx\u001b[0m\u001b[0;34m)\u001b[0m \u001b[0;32mfor\u001b[0m \u001b[0mx\u001b[0m \u001b[0;32min\u001b[0m \u001b[0mentries\u001b[0m\u001b[0;34m]\u001b[0m\u001b[0;34m,\u001b[0m\u001b[0;34m\u001b[0m\u001b[0;34m\u001b[0m\u001b[0m\n\u001b[0m\u001b[1;32m    917\u001b[0m       expand_composites=expand_composites)\n\u001b[1;32m    918\u001b[0m \u001b[0;34m\u001b[0m\u001b[0m\n",
            "\u001b[0;32m/usr/local/lib/python3.7/dist-packages/keras/utils/tf_utils.py\u001b[0m in \u001b[0;36m_to_single_numpy_or_python_type\u001b[0;34m(t)\u001b[0m\n\u001b[1;32m    599\u001b[0m     \u001b[0;31m# Don't turn ragged or sparse tensors to NumPy.\u001b[0m\u001b[0;34m\u001b[0m\u001b[0;34m\u001b[0m\u001b[0;34m\u001b[0m\u001b[0m\n\u001b[1;32m    600\u001b[0m     \u001b[0;32mif\u001b[0m \u001b[0misinstance\u001b[0m\u001b[0;34m(\u001b[0m\u001b[0mt\u001b[0m\u001b[0;34m,\u001b[0m \u001b[0mtf\u001b[0m\u001b[0;34m.\u001b[0m\u001b[0mTensor\u001b[0m\u001b[0;34m)\u001b[0m\u001b[0;34m:\u001b[0m\u001b[0;34m\u001b[0m\u001b[0;34m\u001b[0m\u001b[0m\n\u001b[0;32m--> 601\u001b[0;31m       \u001b[0mt\u001b[0m \u001b[0;34m=\u001b[0m \u001b[0mt\u001b[0m\u001b[0;34m.\u001b[0m\u001b[0mnumpy\u001b[0m\u001b[0;34m(\u001b[0m\u001b[0;34m)\u001b[0m\u001b[0;34m\u001b[0m\u001b[0;34m\u001b[0m\u001b[0m\n\u001b[0m\u001b[1;32m    602\u001b[0m     \u001b[0;31m# Strings, ragged and sparse tensors don't have .item(). Return them as-is.\u001b[0m\u001b[0;34m\u001b[0m\u001b[0;34m\u001b[0m\u001b[0;34m\u001b[0m\u001b[0m\n\u001b[1;32m    603\u001b[0m     \u001b[0;32mif\u001b[0m \u001b[0;32mnot\u001b[0m \u001b[0misinstance\u001b[0m\u001b[0;34m(\u001b[0m\u001b[0mt\u001b[0m\u001b[0;34m,\u001b[0m \u001b[0;34m(\u001b[0m\u001b[0mnp\u001b[0m\u001b[0;34m.\u001b[0m\u001b[0mndarray\u001b[0m\u001b[0;34m,\u001b[0m \u001b[0mnp\u001b[0m\u001b[0;34m.\u001b[0m\u001b[0mgeneric\u001b[0m\u001b[0;34m)\u001b[0m\u001b[0;34m)\u001b[0m\u001b[0;34m:\u001b[0m\u001b[0;34m\u001b[0m\u001b[0;34m\u001b[0m\u001b[0m\n",
            "\u001b[0;32m/usr/local/lib/python3.7/dist-packages/tensorflow/python/framework/ops.py\u001b[0m in \u001b[0;36mnumpy\u001b[0;34m(self)\u001b[0m\n\u001b[1;32m   1157\u001b[0m     \"\"\"\n\u001b[1;32m   1158\u001b[0m     \u001b[0;31m# TODO(slebedev): Consider avoiding a copy for non-CPU or remote tensors.\u001b[0m\u001b[0;34m\u001b[0m\u001b[0;34m\u001b[0m\u001b[0;34m\u001b[0m\u001b[0m\n\u001b[0;32m-> 1159\u001b[0;31m     \u001b[0mmaybe_arr\u001b[0m \u001b[0;34m=\u001b[0m \u001b[0mself\u001b[0m\u001b[0;34m.\u001b[0m\u001b[0m_numpy\u001b[0m\u001b[0;34m(\u001b[0m\u001b[0;34m)\u001b[0m  \u001b[0;31m# pylint: disable=protected-access\u001b[0m\u001b[0;34m\u001b[0m\u001b[0;34m\u001b[0m\u001b[0m\n\u001b[0m\u001b[1;32m   1160\u001b[0m     \u001b[0;32mreturn\u001b[0m \u001b[0mmaybe_arr\u001b[0m\u001b[0;34m.\u001b[0m\u001b[0mcopy\u001b[0m\u001b[0;34m(\u001b[0m\u001b[0;34m)\u001b[0m \u001b[0;32mif\u001b[0m \u001b[0misinstance\u001b[0m\u001b[0;34m(\u001b[0m\u001b[0mmaybe_arr\u001b[0m\u001b[0;34m,\u001b[0m \u001b[0mnp\u001b[0m\u001b[0;34m.\u001b[0m\u001b[0mndarray\u001b[0m\u001b[0;34m)\u001b[0m \u001b[0;32melse\u001b[0m \u001b[0mmaybe_arr\u001b[0m\u001b[0;34m\u001b[0m\u001b[0;34m\u001b[0m\u001b[0m\n\u001b[1;32m   1161\u001b[0m \u001b[0;34m\u001b[0m\u001b[0m\n",
            "\u001b[0;32m/usr/local/lib/python3.7/dist-packages/tensorflow/python/framework/ops.py\u001b[0m in \u001b[0;36m_numpy\u001b[0;34m(self)\u001b[0m\n\u001b[1;32m   1123\u001b[0m   \u001b[0;32mdef\u001b[0m \u001b[0m_numpy\u001b[0m\u001b[0;34m(\u001b[0m\u001b[0mself\u001b[0m\u001b[0;34m)\u001b[0m\u001b[0;34m:\u001b[0m\u001b[0;34m\u001b[0m\u001b[0;34m\u001b[0m\u001b[0m\n\u001b[1;32m   1124\u001b[0m     \u001b[0;32mtry\u001b[0m\u001b[0;34m:\u001b[0m\u001b[0;34m\u001b[0m\u001b[0;34m\u001b[0m\u001b[0m\n\u001b[0;32m-> 1125\u001b[0;31m       \u001b[0;32mreturn\u001b[0m \u001b[0mself\u001b[0m\u001b[0;34m.\u001b[0m\u001b[0m_numpy_internal\u001b[0m\u001b[0;34m(\u001b[0m\u001b[0;34m)\u001b[0m\u001b[0;34m\u001b[0m\u001b[0;34m\u001b[0m\u001b[0m\n\u001b[0m\u001b[1;32m   1126\u001b[0m     \u001b[0;32mexcept\u001b[0m \u001b[0mcore\u001b[0m\u001b[0;34m.\u001b[0m\u001b[0m_NotOkStatusException\u001b[0m \u001b[0;32mas\u001b[0m \u001b[0me\u001b[0m\u001b[0;34m:\u001b[0m  \u001b[0;31m# pylint: disable=protected-access\u001b[0m\u001b[0;34m\u001b[0m\u001b[0;34m\u001b[0m\u001b[0m\n\u001b[1;32m   1127\u001b[0m       \u001b[0;32mraise\u001b[0m \u001b[0mcore\u001b[0m\u001b[0;34m.\u001b[0m\u001b[0m_status_to_exception\u001b[0m\u001b[0;34m(\u001b[0m\u001b[0me\u001b[0m\u001b[0;34m)\u001b[0m \u001b[0;32mfrom\u001b[0m \u001b[0;32mNone\u001b[0m  \u001b[0;31m# pylint: disable=protected-access\u001b[0m\u001b[0;34m\u001b[0m\u001b[0;34m\u001b[0m\u001b[0m\n",
            "\u001b[0;31mKeyboardInterrupt\u001b[0m: "
          ]
        }
      ]
    },
    {
      "cell_type": "markdown",
      "source": [
        "Finally, we need to evaluate the performance of our model. Go ahead and try it out on the test set!\n",
        "\n",
        "### **Q11) Evaluate the model on the test set.**\n",
        "\n",
        "*Hint 1: Keras models include an `evaluate()` method that takes in the test set inputs/labels. [Here is the documentation](https://www.tensorflow.org/api_docs/python/tf/keras/Model#evaluate).*"
      ],
      "metadata": {
        "id": "LvrFsiYJeQ3u"
      }
    },
    {
      "cell_type": "code",
      "source": [
        "# Rollback to best model, which was saved by the callback\n",
        "model = tf.keras.models.load_model(\"my_mnist_model.h5\") # rollback to best model\n",
        "\n",
        "# Evaluate the model\n",
        "model.evaluate(X_test, y_test)"
      ],
      "metadata": {
        "id": "-0FIYQzleRWt",
        "outputId": "07a3d448-7030-4dec-9593-46545999d1cb",
        "colab": {
          "base_uri": "https://localhost:8080/"
        }
      },
      "execution_count": 24,
      "outputs": [
        {
          "output_type": "stream",
          "name": "stdout",
          "text": [
            "313/313 [==============================] - 1s 2ms/step - loss: 0.1573 - accuracy: 0.9542\n"
          ]
        },
        {
          "output_type": "execute_result",
          "data": {
            "text/plain": [
              "[0.1572626382112503, 0.954200029373169]"
            ]
          },
          "metadata": {},
          "execution_count": 24
        }
      ]
    },
    {
      "cell_type": "markdown",
      "source": [
        "Finally, we can use tensorboard to check out our model's performance! Note that the tensorboard extension was loaded in the notebook setup cell."
      ],
      "metadata": {
        "id": "5y0JJitTgYM9"
      }
    },
    {
      "cell_type": "code",
      "source": [
        "%tensorboard --logdir=./my_mnist_logs --port=6006"
      ],
      "metadata": {
        "id": "NAnYPOQrgd6m"
      },
      "execution_count": null,
      "outputs": []
    },
    {
      "cell_type": "markdown",
      "source": [
        "An enthusiastic (albeit somewhat sick 😷) TA noted that during the development of the notebook the accuracy reached on the test dataset was 97.84%. Additionally, the tensorboard curves from the test run is given below:\n",
        "\n",
        "\n",
        "![picture](https://unils-my.sharepoint.com/:i:/g/personal/tom_beucler_unil_ch/EXPT4jVOfNZJpkSqD4wNktMByxa9LmH-uq0EU6PIaul27Q?download=1)"
      ],
      "metadata": {
        "id": "HE_XjLrccEtn"
      }
    }
  ]
}